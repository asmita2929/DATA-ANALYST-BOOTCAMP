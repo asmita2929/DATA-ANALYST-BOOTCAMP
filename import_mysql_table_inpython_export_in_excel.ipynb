{
 "cells": [
  {
   "cell_type": "code",
   "execution_count": 25,
   "id": "f982684c-4a35-4ce5-afbc-cddad851a592",
   "metadata": {},
   "outputs": [
    {
     "name": "stdout",
     "output_type": "stream",
     "text": [
      "Requirement already satisfied: mysql.connector in /opt/anaconda3/lib/python3.12/site-packages (2.2.9)\n"
     ]
    }
   ],
   "source": [
    "!pip install mysql.connector\n",
    "import mysql.connector"
   ]
  },
  {
   "cell_type": "code",
   "execution_count": 9,
   "id": "967326a2-5205-4a57-8bf7-c8dcb45e9747",
   "metadata": {},
   "outputs": [],
   "source": [
    "import pandas as pd"
   ]
  },
  {
   "cell_type": "code",
   "execution_count": 5,
   "id": "5411805d-1498-4444-906d-a088fa5910db",
   "metadata": {},
   "outputs": [],
   "source": [
    "conn=mysql.connector.connect(host=\"localhost\",user=\"root\",password=\"\",db=\"temp_db\")"
   ]
  },
  {
   "cell_type": "code",
   "execution_count": 19,
   "id": "960070fc-8d77-4fd0-8ad6-f62a5ac9e44e",
   "metadata": {},
   "outputs": [
    {
     "name": "stderr",
     "output_type": "stream",
     "text": [
      "/var/folders/5v/g0nqjmns1xs7xr77qnjdjgz00000gn/T/ipykernel_62250/4108338282.py:1: UserWarning: pandas only supports SQLAlchemy connectable (engine/connection) or database string URI or sqlite3 DBAPI2 connection. Other DBAPI2 objects are not tested. Please consider using SQLAlchemy.\n",
      "  layoff=pd.read_sql_query('select * from layoff',conn)\n"
     ]
    }
   ],
   "source": [
    "layoff=pd.read_sql_query('select * from layoff',conn)"
   ]
  },
  {
   "cell_type": "code",
   "execution_count": 21,
   "id": "a97fa53e-57f0-4585-b439-1b76f852af31",
   "metadata": {},
   "outputs": [
    {
     "data": {
      "text/html": [
       "<div>\n",
       "<style scoped>\n",
       "    .dataframe tbody tr th:only-of-type {\n",
       "        vertical-align: middle;\n",
       "    }\n",
       "\n",
       "    .dataframe tbody tr th {\n",
       "        vertical-align: top;\n",
       "    }\n",
       "\n",
       "    .dataframe thead th {\n",
       "        text-align: right;\n",
       "    }\n",
       "</style>\n",
       "<table border=\"1\" class=\"dataframe\">\n",
       "  <thead>\n",
       "    <tr style=\"text-align: right;\">\n",
       "      <th></th>\n",
       "      <th>COL 1</th>\n",
       "      <th>COL 2</th>\n",
       "      <th>COL 3</th>\n",
       "      <th>COL 4</th>\n",
       "      <th>COL 5</th>\n",
       "      <th>COL 6</th>\n",
       "      <th>COL 7</th>\n",
       "      <th>COL 8</th>\n",
       "      <th>COL 9</th>\n",
       "    </tr>\n",
       "  </thead>\n",
       "  <tbody>\n",
       "    <tr>\n",
       "      <th>0</th>\n",
       "      <td>company</td>\n",
       "      <td>location</td>\n",
       "      <td>industry</td>\n",
       "      <td>total_laid_off</td>\n",
       "      <td>percentage_laid_off</td>\n",
       "      <td>date</td>\n",
       "      <td>stage</td>\n",
       "      <td>country</td>\n",
       "      <td>funds_raised_millions</td>\n",
       "    </tr>\n",
       "    <tr>\n",
       "      <th>1</th>\n",
       "      <td>Atlassian</td>\n",
       "      <td>Sydney</td>\n",
       "      <td>Other</td>\n",
       "      <td>500</td>\n",
       "      <td>0.05</td>\n",
       "      <td>3/6/2023</td>\n",
       "      <td>Post-IPO</td>\n",
       "      <td>Australia</td>\n",
       "      <td>210</td>\n",
       "    </tr>\n",
       "    <tr>\n",
       "      <th>2</th>\n",
       "      <td>SiriusXM</td>\n",
       "      <td>New York City</td>\n",
       "      <td>Media</td>\n",
       "      <td>475</td>\n",
       "      <td>0.08</td>\n",
       "      <td>3/6/2023</td>\n",
       "      <td>Post-IPO</td>\n",
       "      <td>United States</td>\n",
       "      <td>525</td>\n",
       "    </tr>\n",
       "    <tr>\n",
       "      <th>3</th>\n",
       "      <td>Alerzo</td>\n",
       "      <td>Ibadan</td>\n",
       "      <td>Retail</td>\n",
       "      <td>400</td>\n",
       "      <td></td>\n",
       "      <td>3/6/2023</td>\n",
       "      <td>Series B</td>\n",
       "      <td>Nigeria</td>\n",
       "      <td>16</td>\n",
       "    </tr>\n",
       "    <tr>\n",
       "      <th>4</th>\n",
       "      <td>UpGrad</td>\n",
       "      <td>Mumbai</td>\n",
       "      <td>Education</td>\n",
       "      <td>120</td>\n",
       "      <td></td>\n",
       "      <td>3/6/2023</td>\n",
       "      <td>Unknown</td>\n",
       "      <td>India</td>\n",
       "      <td>631</td>\n",
       "    </tr>\n",
       "  </tbody>\n",
       "</table>\n",
       "</div>"
      ],
      "text/plain": [
       "       COL 1          COL 2      COL 3           COL 4                COL 5  \\\n",
       "0    company       location   industry  total_laid_off  percentage_laid_off   \n",
       "1  Atlassian         Sydney      Other             500                 0.05   \n",
       "2   SiriusXM  New York City      Media             475                 0.08   \n",
       "3     Alerzo         Ibadan     Retail             400                        \n",
       "4     UpGrad         Mumbai  Education             120                        \n",
       "\n",
       "      COL 6     COL 7          COL 8                  COL 9  \n",
       "0      date     stage        country  funds_raised_millions  \n",
       "1  3/6/2023  Post-IPO      Australia                    210  \n",
       "2  3/6/2023  Post-IPO  United States                    525  \n",
       "3  3/6/2023  Series B        Nigeria                     16  \n",
       "4  3/6/2023   Unknown          India                    631  "
      ]
     },
     "execution_count": 21,
     "metadata": {},
     "output_type": "execute_result"
    }
   ],
   "source": [
    "layoff.head()"
   ]
  },
  {
   "cell_type": "code",
   "execution_count": 23,
   "id": "ea30e11b-c1fb-4459-9039-699ae15ba862",
   "metadata": {},
   "outputs": [],
   "source": [
    "with pd.ExcelWriter('layoff.xlsx')as writer:\n",
    "    layoff.to_excel(writer,sheet_name =\"layoff_1\")"
   ]
  },
  {
   "cell_type": "code",
   "execution_count": null,
   "id": "60f03d84-7678-4bc5-9a79-6d19c02a1d0d",
   "metadata": {},
   "outputs": [],
   "source": []
  }
 ],
 "metadata": {
  "kernelspec": {
   "display_name": "Python [conda env:base] *",
   "language": "python",
   "name": "conda-base-py"
  },
  "language_info": {
   "codemirror_mode": {
    "name": "ipython",
    "version": 3
   },
   "file_extension": ".py",
   "mimetype": "text/x-python",
   "name": "python",
   "nbconvert_exporter": "python",
   "pygments_lexer": "ipython3",
   "version": "3.12.7"
  }
 },
 "nbformat": 4,
 "nbformat_minor": 5
}
